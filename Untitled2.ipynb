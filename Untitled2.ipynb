{
  "nbformat": 4,
  "nbformat_minor": 0,
  "metadata": {
    "colab": {
      "name": "Untitled2.ipynb",
      "provenance": [],
      "authorship_tag": "ABX9TyN2RRJSIGp3qOzE1bRoua0b",
      "include_colab_link": true
    },
    "kernelspec": {
      "name": "python3",
      "display_name": "Python 3"
    }
  },
  "cells": [
    {
      "cell_type": "markdown",
      "metadata": {
        "id": "view-in-github",
        "colab_type": "text"
      },
      "source": [
        "<a href=\"https://colab.research.google.com/github/AlbieRWang/Note/blob/master/Untitled2.ipynb\" target=\"_parent\"><img src=\"https://colab.research.google.com/assets/colab-badge.svg\" alt=\"Open In Colab\"/></a>"
      ]
    },
    {
      "cell_type": "code",
      "metadata": {
        "id": "5Np5YZGG9JRM",
        "colab_type": "code",
        "colab": {
          "base_uri": "https://localhost:8080/",
          "height": 34
        },
        "outputId": "5260a9cb-f491-49df-f3b6-52b311719185"
      },
      "source": [
        "pip install jieba"
      ],
      "execution_count": null,
      "outputs": [
        {
          "output_type": "stream",
          "text": [
            "Requirement already satisfied: jieba in /usr/local/lib/python3.6/dist-packages (0.42.1)\n"
          ],
          "name": "stdout"
        }
      ]
    },
    {
      "cell_type": "code",
      "metadata": {
        "id": "FHCbeKYd-eSm",
        "colab_type": "code",
        "colab": {
          "base_uri": "https://localhost:8080/",
          "height": 54
        },
        "outputId": "636c9ea5-8cdf-461d-e280-983b80031c00"
      },
      "source": [
        "import jieba\n",
        "if __name__ == '__main__':\n",
        "    s='我研究生期间是研究生物的,无线电法国别研究,人要是行，干一行行一行，一行行行行行，行行行干哪行都行。,我想梦梦梦梦过的梦.这幅画画了个画画画的好的人;我爸是我爸，我是我爸儿  ,'\n",
        "    b='挺好挺好挺好挺好挺好挺好挺好挺好挺好挺好挺好挺好'\n",
        "    # print('jieba',[i for i in jieba.cut(b,HMM=False)])\n",
        "    print('jieba',[i for i in jieba.cut(s,use_paddle=True)])\n",
        "\n",
        "\n"
      ],
      "execution_count": null,
      "outputs": [
        {
          "output_type": "stream",
          "text": [
            "jieba ['我', '研究生', '期间', '是', '研究', '生物', '的', ',', '无线电', '法国', '别', '研究', ',', '人', '要是', '行', '，', '干', '一行行', '一行', '，', '一行行', '行行行', '，', '行行', '行干', '哪行', '都行', '。', ',', '我', '想', '梦梦', '梦梦', '过', '的', '梦', '.', '这幅', '画画', '了', '个', '画画', '画', '的', '好', '的', '人', ';', '我爸', '是', '我', '爸', '，', '我', '是', '我', '爸儿', ' ', ' ', ',']\n"
          ],
          "name": "stdout"
        }
      ]
    },
    {
      "cell_type": "code",
      "metadata": {
        "id": "_cxcl5hXMuRH",
        "colab_type": "code",
        "colab": {}
      },
      "source": [
        ""
      ],
      "execution_count": null,
      "outputs": []
    }
  ]
}